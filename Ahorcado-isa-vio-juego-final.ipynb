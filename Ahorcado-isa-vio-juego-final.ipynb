{
 "cells": [
  {
   "cell_type": "code",
   "execution_count": 2,
   "metadata": {},
   "outputs": [],
   "source": [
    "#Juego del ahorcado"
   ]
  },
  {
   "cell_type": "code",
   "execution_count": 3,
   "metadata": {},
   "outputs": [],
   "source": [
    "import random\n",
    "def obtain_random_word():\n",
    "    word=[\"perro\",\"casa\",\"adalab\",\"programadoras\",\"data\",\"mejores\",\"vacaciones\",\"elefante\",\"gato\",\"python\",\"horno\",\"libre\",\"animal\",\"alumna\",\"escuela\",\"formacion\",\"chocolate\"]\n",
    "    random_word= random.choice(word)\n",
    "    return random_word\n",
    "def show_board(secret_word, guessed_letters):\n",
    "    board = \"\"\n",
    "    for letter in secret_word:\n",
    "        if letter in guessed_letters:\n",
    "            board += \" \" + letter + \" \"\n",
    "        else:\n",
    "            board += \" _ \"\n",
    "    print(board)\n",
    "dibujo = [\n",
    "    '''\n",
    "       +---+\n",
    "       |   |\n",
    "           |\n",
    "           |\n",
    "           |\n",
    "           |\n",
    "    =========\n",
    "    ''',\n",
    "    '''\n",
    "       +---+\n",
    "       |   |\n",
    "       O   |\n",
    "           |\n",
    "           |\n",
    "           |\n",
    "    =========\n",
    "    ''',\n",
    "    '''\n",
    "       +---+\n",
    "       |   |\n",
    "       O   |\n",
    "       |   |\n",
    "           |\n",
    "           |\n",
    "    =========\n",
    "    ''',\n",
    "    '''\n",
    "       +---+\n",
    "       |   |\n",
    "       O   |\n",
    "      /|   |\n",
    "           |\n",
    "           |\n",
    "    =========\n",
    "    ''',\n",
    "    '''\n",
    "       +---+\n",
    "       |   |\n",
    "       O   |\n",
    "      /|\\  |\n",
    "           |\n",
    "           |\n",
    "    =========\n",
    "    ''',\n",
    "    '''\n",
    "       +---+\n",
    "       |   |\n",
    "       O   |\n",
    "      /|\\  |\n",
    "      /    |\n",
    "           |\n",
    "    =========\n",
    "    ''',\n",
    "    '''\n",
    "       +---+\n",
    "       |   |\n",
    "       O   |\n",
    "      /|\\  |\n",
    "      / \\  |\n",
    "           |\n",
    "    =========\n",
    "    '''\n",
    "]\n",
    "def play():\n",
    "    secret_word =obtain_random_word()\n",
    "    wrong_letters = []\n",
    "    guessed_letters =[]\n",
    "    lifes=7\n",
    "    while lifes > 0:\n",
    "        show_board(secret_word, guessed_letters)\n",
    "        letter=input(\"Introduce una letra: \").lower()\n",
    "        if letter in guessed_letters or letter in wrong_letters:\n",
    "            print(\"Esta letra ya ha sido dicha. Try again\")\n",
    "            print(f\"Te quedan {lifes} vidas\")\n",
    "            continue\n",
    "        elif letter in secret_word:\n",
    "            guessed_letters.append(letter)\n",
    "            if set(guessed_letters) == set(secret_word):\n",
    "                print(\"Enhorabuena, has ganado!\")\n",
    "                break\n",
    "        else:\n",
    "            wrong_letters.append(letter)\n",
    "            print(f\"Letra incorrecta. Te quedan {lifes -1} vidas\")\n",
    "            print(dibujo[7-lifes])\n",
    "            lifes -=1\n",
    "    if lifes == 0:\n",
    "        print(f\"No te quedan más vidas, la palabra secreta era {secret_word}. Juega otra vez para intentar ganar!\")\n",
    "        print(dibujo[6])\n",
    "play()\n"
   ]
  },
  {
   "cell_type": "code",
   "execution_count": null,
   "metadata": {},
   "outputs": [],
   "source": []
  },
  {
   "cell_type": "code",
   "execution_count": null,
   "metadata": {},
   "outputs": [],
   "source": []
  },
  {
   "cell_type": "code",
   "execution_count": null,
   "metadata": {},
   "outputs": [],
   "source": []
  },
  {
   "cell_type": "code",
   "execution_count": null,
   "metadata": {},
   "outputs": [],
   "source": []
  },
  {
   "cell_type": "code",
   "execution_count": null,
   "metadata": {},
   "outputs": [],
   "source": []
  },
  {
   "cell_type": "code",
   "execution_count": null,
   "metadata": {},
   "outputs": [],
   "source": []
  },
  {
   "cell_type": "code",
   "execution_count": null,
   "metadata": {},
   "outputs": [],
   "source": []
  },
  {
   "cell_type": "code",
   "execution_count": null,
   "metadata": {},
   "outputs": [],
   "source": []
  },
  {
   "cell_type": "code",
   "execution_count": null,
   "metadata": {},
   "outputs": [],
   "source": []
  },
  {
   "cell_type": "code",
   "execution_count": null,
   "metadata": {},
   "outputs": [],
   "source": []
  },
  {
   "cell_type": "code",
   "execution_count": null,
   "metadata": {},
   "outputs": [],
   "source": []
  },
  {
   "cell_type": "code",
   "execution_count": null,
   "metadata": {},
   "outputs": [],
   "source": []
  },
  {
   "cell_type": "code",
   "execution_count": null,
   "metadata": {},
   "outputs": [],
   "source": []
  }
 ],
 "metadata": {
  "kernelspec": {
   "display_name": "Python 3",
   "language": "python",
   "name": "python3"
  },
  "language_info": {
   "codemirror_mode": {
    "name": "ipython",
    "version": 3
   },
   "file_extension": ".py",
   "mimetype": "text/x-python",
   "name": "python",
   "nbconvert_exporter": "python",
   "pygments_lexer": "ipython3",
   "version": "3.10.12"
  }
 },
 "nbformat": 4,
 "nbformat_minor": 2
}
