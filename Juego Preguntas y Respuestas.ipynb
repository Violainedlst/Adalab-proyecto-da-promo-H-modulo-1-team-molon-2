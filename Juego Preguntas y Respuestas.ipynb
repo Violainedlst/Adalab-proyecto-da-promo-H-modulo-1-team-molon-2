{
 "cells": [
  {
   "cell_type": "code",
   "execution_count": null,
   "metadata": {},
   "outputs": [],
   "source": [
    "# Juego de Preguntas y Respuestas ---> Geografía"
   ]
  },
  {
   "cell_type": "code",
   "execution_count": null,
   "metadata": {},
   "outputs": [],
   "source": [
    "# El juego sigue hasta que el jugador responda incorrectamente 3 de veces o haya respondido 5 preguntas correctamente.\n",
    "\n",
    "# Comienza creando un diccionario que contenga preguntas de geografía como claves y respuestas como valores.\n",
    "\n",
    "# Implementa una función para seleccionar una pregunta aleatoria del diccionario.\n",
    "\n",
    "# Utiliza un bucle `while` para hacer preguntas de geografía hasta que el jugador responda un número específico de preguntas correctamente o alcance un número máximo de respuestas incorrectas.\n",
    "\n",
    "# Dentro del bucle, presenta la pregunta al jugador y permita que ingresen sus respuestas.\n",
    "\n",
    "# Lleva un seguimiento del número de preguntas realizadas y el número de respuestas correctas.\n",
    "\n",
    "# Determina las condiciones de victoria y derrota del juego y sal del bucle cuando se cumplan estas condiciones\n",
    "\n",
    "# Definimos las preguntas y respuestas con un diccionario\n",
    "\n"
   ]
  },
  {
   "cell_type": "code",
   "execution_count": 3,
   "metadata": {},
   "outputs": [],
   "source": [
    "# Definimos las preguntas y respuestas con un diccionario\n",
    "\n",
    "preguntas_geografía={\"¿Cuál es la montaña más alta de España?\": \"Teide\",\n",
    "                    \"¿El mar muerto es realmente un mar?\":\"No\",\n",
    "                    \"¿Qué continente es el más poblado?\":\"Asia\",\n",
    "                    \"¿Qué río pasa por más países?\":\"Danubio\",\n",
    "                    \"¿Cuál es el país más pequeño del mundo?\":\"Ciudad del Vaticano\"}\n",
    "\n",
    "\n",
    "import random\n",
    "\n",
    "\n",
    "# seleccion_preguntas \n",
    "\n",
    "respuestas_correctas=0\n",
    "\n",
    "fallos=0\n",
    "\n",
    "#convierto las keys en lista para que me sirva random.choice\n",
    "preguntas=list(preguntas_geografía.keys()) \n",
    "respuestas=preguntas_geografía.values()\n",
    "\n",
    "\n",
    "# crear def para comprobar respuesta (teniendo en cuenta que la respuesta se corresponda con valor)\n",
    "\n",
    "# iniciamos juego\n",
    "\n",
    "while True:\n",
    "    pregunta_aleatoria=random.choice(preguntas)\n",
    "    respuesta_usuario=input(pregunta_aleatoria).lower()\n",
    "    print(respuesta_usuario)\n",
    "    \n",
    "    #comprobar\n",
    "\n",
    "    if respuesta_usuario == respuestas:\n",
    "        print(\" Has acertado!\")\n",
    "\n",
    "        respuestas_correctas += 1\n",
    "\n",
    "        if respuestas_correctas == 5\n",
    "        print(\"!Has ganado el juego!!\")\n",
    "\n",
    "\n",
    "    \n",
    "\n",
    "    else:\n",
    "        fallos += 1 \n",
    "\n",
    "        print(\"Ups! has fallado!\")\n",
    "\n",
    "\n",
    "\n",
    "\n",
    "\n",
    "\n"
   ]
  }
 ],
 "metadata": {
  "kernelspec": {
   "display_name": "base",
   "language": "python",
   "name": "python3"
  },
  "language_info": {
   "codemirror_mode": {
    "name": "ipython",
    "version": 3
   },
   "file_extension": ".py",
   "mimetype": "text/x-python",
   "name": "python",
   "nbconvert_exporter": "python",
   "pygments_lexer": "ipython3",
   "version": "3.9.7"
  }
 },
 "nbformat": 4,
 "nbformat_minor": 2
}
