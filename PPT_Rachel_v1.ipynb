{
 "cells": [
  {
   "cell_type": "code",
   "execution_count": 2,
   "metadata": {},
   "outputs": [
    {
     "name": "stdout",
     "output_type": "stream",
     "text": [
      "¡Empate! Juega de nuevo\n"
     ]
    }
   ],
   "source": [
    "#JUEGO PIEDRA PAPEL Y TIJERA\n",
    "\n",
    "player_option = input(\"¿'Piedra', 'papel' o 'tijera'?\")\n",
    "comp_option = \"piedra\"\n",
    "\n",
    "if player_option == comp_option:\n",
    "    print(\"¡Empate! Juega de nuevo\")\n",
    "\n",
    "elif player_option == \"piedra\" and comp_option == \"papel\":\n",
    "    print(\"El papel envuelve la piedra. Gana el ordenador.\")\n",
    "\n",
    "elif player_option == \"papel\" and comp_option == \"piedra\":\n",
    "    print(\"El papel envuelve la piedra. Has ganado.\")\n",
    "\n",
    "elif player_option == \"tijera\" and comp_option == \"piedra\":\n",
    "    print(\"La piedra destroza la tijera. Gana el ordenador.\")\n",
    "\n",
    "elif player_option == \"piedra\" and comp_option == \"tijera\":\n",
    "    print(\"La piedra destroza a la tijera. Has ganado!\")\n",
    "\n",
    "elif player_option == \"papel\" and comp_option == \"tijera\":\n",
    "    print(\"La tijera corta el papel. Gana el ordenador.\")\n",
    "\n",
    "elif player_option == \"tijera\" and comp_option == \"papel\":\n",
    "    print(\"La tijera corta el papel. Has ganado\")\n",
    "\n",
    "else:\n",
    "    print(\"Respuesta incorrecta. Juega de nuevo insertando una de las 3 opciones.\")\n"
   ]
  }
 ],
 "metadata": {
  "kernelspec": {
   "display_name": "Python 3",
   "language": "python",
   "name": "python3"
  },
  "language_info": {
   "codemirror_mode": {
    "name": "ipython",
    "version": 3
   },
   "file_extension": ".py",
   "mimetype": "text/x-python",
   "name": "python",
   "nbconvert_exporter": "python",
   "pygments_lexer": "ipython3",
   "version": "3.12.2"
  }
 },
 "nbformat": 4,
 "nbformat_minor": 2
}
