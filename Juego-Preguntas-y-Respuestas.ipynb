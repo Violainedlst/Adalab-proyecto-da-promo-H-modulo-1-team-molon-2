{
 "cells": [
  {
   "cell_type": "code",
   "execution_count": 5,
   "metadata": {},
   "outputs": [],
   "source": [
    "# Juego de Preguntas y Respuestas ---> Geografía"
   ]
  },
  {
   "cell_type": "code",
   "execution_count": 6,
   "metadata": {},
   "outputs": [],
   "source": [
    "# El juego sigue hasta que el jugador responda incorrectamente 3 de veces o haya respondido 5 preguntas correctamente.\n",
    "\n",
    "# Comienza creando un diccionario que contenga preguntas de geografía como claves y respuestas como valores.\n",
    "\n",
    "# Implementa una función para seleccionar una pregunta aleatoria del diccionario.\n",
    "\n",
    "# Utiliza un bucle `while` para hacer preguntas de geografía hasta que el jugador responda un número específico de preguntas correctamente o alcance un número máximo de respuestas incorrectas.\n",
    "\n",
    "# Dentro del bucle, presenta la pregunta al jugador y permita que ingresen sus respuestas.\n",
    "\n",
    "# Lleva un seguimiento del número de preguntas realizadas y el número de respuestas correctas.\n",
    "\n",
    "# Determina las condiciones de victoria y derrota del juego y sal del bucle cuando se cumplan estas condiciones\n",
    "\n",
    "# Definimos las preguntas y respuestas con un diccionario\n",
    "\n"
   ]
  },
  {
   "cell_type": "code",
   "execution_count": 1,
   "metadata": {},
   "outputs": [],
   "source": [
    "# Definimos las preguntas y respuestas con un diccionario\n",
    "\n",
    "preguntas_geografía={\"¿Cuál es la montaña más alta de España?\": \"Teide\",\n",
    "                    \"¿El mar muerto es realmente un mar?\":\"No\",\n",
    "                    \"¿Qué continente es el más poblado?\":\"Asia\",\n",
    "                    \"¿Qué río pasa por más países?\":\"Danubio\",\n",
    "                    \"¿Cuál es el país más pequeño del mundo?\":\"Ciudad del Vaticano\",\n",
    "                    \"¿En qué año se acabó la II Guerra Mundial?\" : \"1945\",\n",
    "                    \"¿Cuál fue el 1er presidente democrático de España tras la dictadura franquista?\" : \"Adolfo Suárez\",\n",
    "                    \"¿Cuál es el apellido del inventor de la bombilla?\" : \"Edison\",\n",
    "                    \"¿En qué año llegó Cristóbal Colón a América?\" :\"En 1492\"}\n",
    "\n",
    "import random\n",
    "\n",
    "# seleccion_preguntas \n",
    "\n",
    "respuestas_correctas=0\n",
    "fallos=0\n",
    "\n",
    "#convierto las keys en lista para que me sirva random.choice\n",
    "preguntas= list(preguntas_geografía.keys()) \n",
    "\n",
    "\n",
    "# crear def para comprobar respuesta (teniendo en cuenta que la respuesta se corresponda con valor)\n",
    "# iniciamos juego\n",
    "\n",
    "while True:\n",
    "    pregunta_aleatoria= random.choice(preguntas)\n",
    "    respuestas= preguntas_geografía[pregunta_aleatoria]\n",
    "\n",
    "    respuesta_usuario= input(pregunta_aleatoria).lower()\n",
    "    print(f\"Tu respuesta es {respuesta_usuario}\")\n",
    "    \n",
    "    #Creamos condicionales en caso de que la persona usuaria acierte o falle las preguntas.\n",
    "\n",
    "    if respuesta_usuario == respuestas.lower():\n",
    "        print(\"¡Has acertado!\")\n",
    "        respuestas_correctas += 1\n",
    "        \n",
    "        if respuestas_correctas == 5:\n",
    "         print(\"*\"*30)\n",
    "         print(\"¡¡HAS GANADO EL JUEGO!!\")\n",
    "         break\n",
    "\n",
    "    else:\n",
    "        fallos += 1 \n",
    "        print(\"¡Ups! has fallado! Inténtalo otra vez.\") \n",
    "        \n",
    "        if fallos==3:\n",
    "         print(\"¡Game Over! Has fallado 3 veces.\")\n",
    "         break\n",
    "\n",
    "       "
   ]
  },
  {
   "cell_type": "code",
   "execution_count": 8,
   "metadata": {},
   "outputs": [
    {
     "name": "stdout",
     "output_type": "stream",
     "text": [
      "dict_values(['Teide', 'No', 'Asia', 'Danubio', 'Ciudad del Vaticano'])\n"
     ]
    }
   ],
   "source": [
    "respuestas=preguntas_geografía.values()\n",
    "print(respuestas)"
   ]
  }
 ],
 "metadata": {
  "kernelspec": {
   "display_name": "base",
   "language": "python",
   "name": "python3"
  },
  "language_info": {
   "codemirror_mode": {
    "name": "ipython",
    "version": 3
   },
   "file_extension": ".py",
   "mimetype": "text/x-python",
   "name": "python",
   "nbconvert_exporter": "python",
   "pygments_lexer": "ipython3",
   "version": "3.12.3"
  }
 },
 "nbformat": 4,
 "nbformat_minor": 2
}
