{
 "cells": [
  {
   "cell_type": "code",
   "execution_count": 1,
   "metadata": {},
   "outputs": [],
   "source": [
    "#Juego PPT"
   ]
  },
  {
   "cell_type": "code",
   "execution_count": 2,
   "metadata": {},
   "outputs": [],
   "source": [
    "opcion_usuario = input(\"papel, piedra o tijera ? :\")\n",
    "opcion_ordenador = \"piedra\""
   ]
  },
  {
   "cell_type": "code",
   "execution_count": 3,
   "metadata": {},
   "outputs": [],
   "source": [
    "if opcion_usuario == opcion_ordenador:\n",
    "    print(\"Empate\")\n",
    "elif opcion_usuario == \"piedra\":\n",
    "    if opcion_ordenador == \"tijera\":\n",
    "        print(\"Piedra gana a tijera!\")\n",
    "        print(\"Has ganado\")\n",
    "    else:\n",
    "        print(\"Papel gana a tijera\")\n",
    "        print(\"El ordenador gano\")"
   ]
  },
  {
   "cell_type": "code",
   "execution_count": 4,
   "metadata": {},
   "outputs": [
    {
     "name": "stdout",
     "output_type": "stream",
     "text": [
      "\n",
      "      [ Bienvenido al juego Piedra, Papel o tijera ]\n",
      "                  >>> Ingresa una opción <<<\n",
      "      \n",
      "******************************\n",
      "Round  1\n",
      "******************************\n",
      "\n",
      "🤖 Computer wins: 0\n",
      "🙋 User wins: 0\n",
      "          \n",
      "User option =>  piedra\n",
      "Computer option =>  piedra\n",
      "Empate!\n",
      "\n",
      "******************************\n",
      "Round  2\n",
      "******************************\n",
      "\n",
      "🤖 Computer wins: 0\n",
      "🙋 User wins: 0\n",
      "          \n",
      "User option =>  papel\n",
      "Computer option =>  piedra\n",
      "📄 Papel gana a piedra 🪨\n",
      "¡User gana!\n",
      "\n",
      "******************************\n",
      "Round  3\n",
      "******************************\n",
      "\n",
      "🤖 Computer wins: 0\n",
      "🙋 User wins: 1\n",
      "          \n",
      "User option =>  piedra\n",
      "Computer option =>  papel\n",
      "📄 Papel gana a piedra 🪨\n",
      "¡Computer gana!\n",
      "\n",
      "******************************\n",
      "Round  4\n",
      "******************************\n",
      "\n",
      "🤖 Computer wins: 1\n",
      "🙋 User wins: 1\n",
      "          \n",
      "User option =>  tijera\n",
      "Computer option =>  tijera\n",
      "Empate!\n",
      "\n",
      "******************************\n",
      "Round  5\n",
      "******************************\n",
      "\n",
      "🤖 Computer wins: 1\n",
      "🙋 User wins: 1\n",
      "          \n",
      "User option =>  papel\n",
      "Computer option =>  papel\n",
      "Empate!\n",
      "\n",
      "******************************\n",
      "Round  6\n",
      "******************************\n",
      "\n",
      "🤖 Computer wins: 1\n",
      "🙋 User wins: 1\n",
      "          \n",
      "User option =>  piedra\n",
      "Computer option =>  tijera\n",
      "🪨 Piedra gana a tijera ✂️\n",
      "¡User gana!\n",
      "\n",
      "******************************\n",
      "Round  7\n",
      "******************************\n",
      "\n",
      "🤖 Computer wins: 1\n",
      "🙋 User wins: 2\n",
      "          \n",
      "User option =>  tijera\n",
      "Computer option =>  papel\n",
      "✂️ Tijera gana a papel 📄\n",
      "¡User gana!\n",
      "\n",
      "🎖️ El ganador es User 🎖️\n"
     ]
    }
   ],
   "source": [
    "import random \n",
    "\n",
    "options = ('piedra', 'papel', 'tijera')\n",
    "rounds = 1\n",
    "computer_wins = 0 \n",
    "user_wins = 0\n",
    "\n",
    "print(\"\"\"\n",
    "      [ Bienvenido al juego Piedra, Papel o tijera ]\n",
    "                  >>> Ingresa una opción <<<\n",
    "      \"\"\")\n",
    "\n",
    "while True:\n",
    "    print('***' * 10)\n",
    "    print('Round ', rounds)\n",
    "    print('***' * 10)\n",
    "    \n",
    "    print(f'''\n",
    " Computer wins: {computer_wins}\n",
    " User wins: {user_wins}\n",
    "          ''')\n",
    "    \n",
    "    user_option = input('>>> Piedra, papel o tijera => ').lower()\n",
    "    rounds += 1\n",
    "    \n",
    "    if not user_option in options:\n",
    "        print('Esa opción no es valida')\n",
    "        \n",
    "    computer_option = random.choice(options)\n",
    "\n",
    "    print('User option => ', user_option)\n",
    "    print('Computer option => ', computer_option)\n",
    "\n",
    "    if user_option == computer_option:\n",
    "        print('Empate!\\n')\n",
    "    elif user_option == 'piedra':\n",
    "        if computer_option == 'tijera':\n",
    "            print(' Piedra gana a tijera ✂️')\n",
    "            print('¡User gana!\\n')\n",
    "            user_wins += 1\n",
    "        else:\n",
    "            print(' Papel gana a piedra ')\n",
    "            print('¡Computer gana!\\n')\n",
    "            computer_wins += 1\n",
    "    elif user_option == 'papel':\n",
    "        if computer_option == 'piedra':\n",
    "            print(' Papel gana a piedra ')\n",
    "            print('¡User gana!\\n')\n",
    "            user_wins += 1\n",
    "        else:\n",
    "            print('✂️ Tijera gana a papel ')\n",
    "            print('¡Computer gana!\\n')\n",
    "            computer_wins += 1\n",
    "    elif user_option == 'tijera':\n",
    "        if computer_option == 'papel':\n",
    "            print('✂️ Tijera gana a papel ')\n",
    "            print('¡User gana!\\n')\n",
    "            user_wins += 1\n",
    "        else:\n",
    "            print(' Piedra gana a tijera ✂️')\n",
    "            print('¡Computer gana!\\n')\n",
    "            computer_wins += 1\n",
    "    \n",
    "    if computer_wins == 3:\n",
    "        print(' El ganador es Computer ')\n",
    "        break\n",
    "    \n",
    "    if user_wins == 3:\n",
    "        print(' El ganador es User ')\n",
    "        break"
   ]
  },
  {
   "cell_type": "code",
   "execution_count": null,
   "metadata": {},
   "outputs": [],
   "source": []
  },
  {
   "cell_type": "code",
   "execution_count": null,
   "metadata": {},
   "outputs": [],
   "source": []
  },
  {
   "cell_type": "code",
   "execution_count": null,
   "metadata": {},
   "outputs": [],
   "source": []
  },
  {
   "cell_type": "code",
   "execution_count": null,
   "metadata": {},
   "outputs": [],
   "source": []
  },
  {
   "cell_type": "code",
   "execution_count": null,
   "metadata": {},
   "outputs": [],
   "source": []
  },
  {
   "cell_type": "code",
   "execution_count": null,
   "metadata": {},
   "outputs": [],
   "source": []
  },
  {
   "cell_type": "code",
   "execution_count": null,
   "metadata": {},
   "outputs": [],
   "source": []
  },
  {
   "cell_type": "code",
   "execution_count": null,
   "metadata": {},
   "outputs": [],
   "source": []
  },
  {
   "cell_type": "code",
   "execution_count": null,
   "metadata": {},
   "outputs": [],
   "source": []
  },
  {
   "cell_type": "code",
   "execution_count": null,
   "metadata": {},
   "outputs": [],
   "source": []
  },
  {
   "cell_type": "code",
   "execution_count": null,
   "metadata": {},
   "outputs": [],
   "source": []
  },
  {
   "cell_type": "code",
   "execution_count": null,
   "metadata": {},
   "outputs": [],
   "source": []
  },
  {
   "cell_type": "code",
   "execution_count": null,
   "metadata": {},
   "outputs": [],
   "source": []
  },
  {
   "cell_type": "code",
   "execution_count": null,
   "metadata": {},
   "outputs": [],
   "source": []
  },
  {
   "cell_type": "code",
   "execution_count": null,
   "metadata": {},
   "outputs": [],
   "source": []
  },
  {
   "cell_type": "code",
   "execution_count": null,
   "metadata": {},
   "outputs": [],
   "source": []
  },
  {
   "cell_type": "code",
   "execution_count": null,
   "metadata": {},
   "outputs": [],
   "source": []
  },
  {
   "cell_type": "code",
   "execution_count": null,
   "metadata": {},
   "outputs": [],
   "source": []
  },
  {
   "cell_type": "code",
   "execution_count": null,
   "metadata": {},
   "outputs": [],
   "source": []
  },
  {
   "cell_type": "code",
   "execution_count": null,
   "metadata": {},
   "outputs": [],
   "source": []
  },
  {
   "cell_type": "code",
   "execution_count": null,
   "metadata": {},
   "outputs": [],
   "source": []
  }
 ],
 "metadata": {
  "kernelspec": {
   "display_name": "Python 3",
   "language": "python",
   "name": "python3"
  },
  "language_info": {
   "codemirror_mode": {
    "name": "ipython",
    "version": 3
   },
   "file_extension": ".py",
   "mimetype": "text/x-python",
   "name": "python",
   "nbconvert_exporter": "python",
   "pygments_lexer": "ipython3",
   "version": "3.10.12"
  }
 },
 "nbformat": 4,
 "nbformat_minor": 2
}
