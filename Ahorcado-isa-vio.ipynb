{
 "cells": [
  {
   "cell_type": "code",
   "execution_count": 2,
   "metadata": {},
   "outputs": [],
   "source": [
    "#Juego del ahorcado"
   ]
  },
  {
   "cell_type": "code",
   "execution_count": 3,
   "metadata": {},
   "outputs": [],
   "source": [
    "import random\n",
    "\n",
    "def obtain_random_word():\n",
    "    word=[\"perro\",\"casa\",\"adalab\",\"programadoras\",\"data\",\"mejores\"]\n",
    "    random_word= random.choice(word)\n",
    "    return random_word\n",
    "\n",
    "def show_board(secret_word, guessed_letters):\n",
    "    board = \"\"\n",
    "    for letter in secret_word:\n",
    "        if letter in guessed_letters:\n",
    "            board += letter\n",
    "        else:\n",
    "            board += \"_ \"\n",
    "    print(board)\n",
    "\n",
    "\n",
    "def play():\n",
    "    secret_word =obtain_random_word()\n",
    "    guessed_letters =[]\n",
    "    lifes=10\n",
    "    while lifes > 0:\n",
    "        show_board(secret_word, guessed_letters)\n",
    "        letter=input(\"Introduce una letra: \").lower()\n",
    "\n",
    "        if letter in guessed_letters:\n",
    "            print(\"Esta letra ya ha sido adivinada. Try again\")\n",
    "            print(f\"Te quedan {lifes} vidas\")\n",
    "            continue\n",
    "\n",
    "        if letter in secret_word:\n",
    "            guessed_letters.append(letter)\n",
    "            if set(guessed_letters) == set(secret_word):\n",
    "                print(\"Enhorabuena, has ganado!\")\n",
    "                break\n",
    "        \n",
    "        else:\n",
    "            lifes -= 1\n",
    "            print(f\"Letra incorrecta, te quedan {lifes} vidas\")\n",
    "    \n",
    "    if lifes == 0:\n",
    "        print(f\"No te quedan mas vida, la palabra secreta era {secret_word}, juega otra vez para ganar!\")\n"
   ]
  },
  {
   "cell_type": "code",
   "execution_count": 4,
   "metadata": {},
   "outputs": [
    {
     "name": "stdout",
     "output_type": "stream",
     "text": [
      "_ _ _ _ _ _ _ \n",
      "Letra incorrecta, te quedan 9 vidas\n",
      "_ _ _ _ _ _ _ \n",
      "Letra incorrecta, te quedan 8 vidas\n",
      "_ _ _ _ _ _ _ \n",
      "Letra incorrecta, te quedan 7 vidas\n",
      "_ _ _ _ _ _ _ \n",
      "Letra incorrecta, te quedan 6 vidas\n",
      "_ _ _ _ _ _ _ \n",
      "Letra incorrecta, te quedan 5 vidas\n",
      "_ _ _ _ _ _ _ \n",
      "Letra incorrecta, te quedan 4 vidas\n",
      "_ _ _ _ _ _ _ \n",
      "Letra incorrecta, te quedan 3 vidas\n",
      "_ _ _ _ _ _ _ \n",
      "_ _ j_ _ _ _ \n",
      "m_ j_ _ _ _ \n",
      "mej_ _ e_ \n",
      "mejo_ e_ \n",
      "mejore_ \n",
      "Enhorabuena, has ganado!\n"
     ]
    }
   ],
   "source": [
    "play()"
   ]
  },
  {
   "cell_type": "code",
   "execution_count": null,
   "metadata": {},
   "outputs": [],
   "source": []
  },
  {
   "cell_type": "code",
   "execution_count": null,
   "metadata": {},
   "outputs": [],
   "source": []
  },
  {
   "cell_type": "code",
   "execution_count": null,
   "metadata": {},
   "outputs": [],
   "source": []
  },
  {
   "cell_type": "code",
   "execution_count": null,
   "metadata": {},
   "outputs": [],
   "source": []
  },
  {
   "cell_type": "code",
   "execution_count": null,
   "metadata": {},
   "outputs": [],
   "source": []
  },
  {
   "cell_type": "code",
   "execution_count": null,
   "metadata": {},
   "outputs": [],
   "source": []
  },
  {
   "cell_type": "code",
   "execution_count": null,
   "metadata": {},
   "outputs": [],
   "source": []
  },
  {
   "cell_type": "code",
   "execution_count": null,
   "metadata": {},
   "outputs": [],
   "source": []
  },
  {
   "cell_type": "code",
   "execution_count": null,
   "metadata": {},
   "outputs": [],
   "source": []
  },
  {
   "cell_type": "code",
   "execution_count": null,
   "metadata": {},
   "outputs": [],
   "source": []
  },
  {
   "cell_type": "code",
   "execution_count": null,
   "metadata": {},
   "outputs": [],
   "source": []
  },
  {
   "cell_type": "code",
   "execution_count": null,
   "metadata": {},
   "outputs": [],
   "source": []
  },
  {
   "cell_type": "code",
   "execution_count": null,
   "metadata": {},
   "outputs": [],
   "source": []
  }
 ],
 "metadata": {
  "kernelspec": {
   "display_name": "Python 3",
   "language": "python",
   "name": "python3"
  },
  "language_info": {
   "codemirror_mode": {
    "name": "ipython",
    "version": 3
   },
   "file_extension": ".py",
   "mimetype": "text/x-python",
   "name": "python",
   "nbconvert_exporter": "python",
   "pygments_lexer": "ipython3",
   "version": "3.10.12"
  }
 },
 "nbformat": 4,
 "nbformat_minor": 2
}
