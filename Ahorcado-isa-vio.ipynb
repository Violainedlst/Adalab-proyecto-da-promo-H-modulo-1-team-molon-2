{
 "cells": [
  {
   "cell_type": "code",
   "execution_count": 19,
   "metadata": {},
   "outputs": [],
   "source": [
    "#Juego del ahorcado"
   ]
  },
  {
   "cell_type": "code",
   "execution_count": 20,
   "metadata": {},
   "outputs": [],
   "source": [
    "#Crear un diccionario con palabra secreta dividida en letra y *\n",
    "secret_word = {\"*\":\"a\",\"*\":\"d\",\"*\":\"a\",\"*\":\"l\",\"*\":\"a\",\"*\":\"b\"}"
   ]
  },
  {
   "cell_type": "code",
   "execution_count": 21,
   "metadata": {},
   "outputs": [],
   "source": [
    "#Establecer un numero maximo de intentos\n",
    "life = 10"
   ]
  },
  {
   "cell_type": "code",
   "execution_count": 28,
   "metadata": {},
   "outputs": [
    {
     "name": "stdout",
     "output_type": "stream",
     "text": [
      "adlb\n"
     ]
    }
   ],
   "source": [
    "#### Dudas con la cantidad de * que aparecen con un print\n",
    "\n",
    "\n",
    "#Creamos una variable llamada 'respuesta' que contiene los * del diccionario como una cadena\n",
    "answer = \"\".join(secret_word.keys())\n",
    "print(answer)"
   ]
  },
  {
   "cell_type": "code",
   "execution_count": 27,
   "metadata": {},
   "outputs": [
    {
     "name": "stdout",
     "output_type": "stream",
     "text": [
      "dict_values(['a', 'd', 'l', 'b'])\n"
     ]
    }
   ],
   "source": [
    "#Empezamos el bucle while mientras la respuesta sea distinta a nuestra palabra y tenga mas de 0 vida\n",
    "# y preguntamos al jugador que introduzca una letra de su elección.\n",
    "while answer != \"adalab\" and life > 0:\n",
    "    guess = input(\"Introduzca una letra\").lower()\n",
    "    if guess in secret_word:\n",
    "        for guess in secret_word:\n",
    "            secret_word[guess] = guess\n",
    "        break\n",
    "print(secret_word.values())"
   ]
  },
  {
   "cell_type": "code",
   "execution_count": null,
   "metadata": {},
   "outputs": [],
   "source": []
  },
  {
   "cell_type": "code",
   "execution_count": null,
   "metadata": {},
   "outputs": [],
   "source": []
  },
  {
   "cell_type": "code",
   "execution_count": null,
   "metadata": {},
   "outputs": [],
   "source": []
  },
  {
   "cell_type": "code",
   "execution_count": null,
   "metadata": {},
   "outputs": [],
   "source": []
  },
  {
   "cell_type": "code",
   "execution_count": null,
   "metadata": {},
   "outputs": [],
   "source": []
  },
  {
   "cell_type": "code",
   "execution_count": null,
   "metadata": {},
   "outputs": [],
   "source": []
  },
  {
   "cell_type": "code",
   "execution_count": null,
   "metadata": {},
   "outputs": [],
   "source": []
  }
 ],
 "metadata": {
  "kernelspec": {
   "display_name": "Python 3",
   "language": "python",
   "name": "python3"
  },
  "language_info": {
   "codemirror_mode": {
    "name": "ipython",
    "version": 3
   },
   "file_extension": ".py",
   "mimetype": "text/x-python",
   "name": "python",
   "nbconvert_exporter": "python",
   "pygments_lexer": "ipython3",
   "version": "3.10.12"
  }
 },
 "nbformat": 4,
 "nbformat_minor": 2
}
